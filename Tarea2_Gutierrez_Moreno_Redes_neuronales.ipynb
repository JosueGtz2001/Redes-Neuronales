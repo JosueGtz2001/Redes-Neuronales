{
  "nbformat": 4,
  "nbformat_minor": 0,
  "metadata": {
    "colab": {
      "provenance": [],
      "gpuType": "T4"
    },
    "kernelspec": {
      "name": "python3",
      "display_name": "Python 3"
    },
    "language_info": {
      "name": "python"
    },
    "accelerator": "GPU"
  },
  "cells": [
    {
      "cell_type": "markdown",
      "source": [
        "##Introducción  \n",
        "Se creará una red neuronal que clasifique imagenes del dataset MNIST. Dicho dataset es una recopilación de imágenes de números escritos a mano. Se tiene la intención de predecir el número que aparece en cada imagen.  \n",
        "Una vez hecho esto, se aplicará un filtro de pixelado. Se espera que el filtro reduzca la precisión de la red neuronal simple."
      ],
      "metadata": {
        "id": "g-ni6JqEiina"
      }
    },
    {
      "cell_type": "markdown",
      "source": [
        "##Importaciones"
      ],
      "metadata": {
        "id": "Q4UeG69FjUbY"
      }
    },
    {
      "cell_type": "code",
      "execution_count": 10,
      "metadata": {
        "id": "X-Rqd-QVfVfn"
      },
      "outputs": [],
      "source": [
        "import torch\n",
        "import torch.nn as nn\n",
        "import torch.optim as optim\n",
        "import torchvision\n",
        "import torchvision.transforms as transforms\n",
        "from torchvision.transforms import functional as F\n",
        "import matplotlib.pyplot as plt\n",
        "import numpy as np"
      ]
    },
    {
      "cell_type": "markdown",
      "source": [
        "## Carga del dataset MNIST"
      ],
      "metadata": {
        "id": "FdMVz0mZjY5I"
      }
    },
    {
      "cell_type": "code",
      "source": [
        "transform_original = transforms.Compose([\n",
        "    transforms.ToTensor()\n",
        "])\n",
        "\n",
        "trainset = torchvision.datasets.MNIST(root='./data', train=True, download=True, transform=transform_original)\n",
        "trainloader = torch.utils.data.DataLoader(trainset, batch_size=64, shuffle=True)\n",
        "\n",
        "testset = torchvision.datasets.MNIST(root='./data', train=False, download=True, transform=transform_original)\n",
        "testloader = torch.utils.data.DataLoader(testset, batch_size=64, shuffle=False)\n"
      ],
      "metadata": {
        "colab": {
          "base_uri": "https://localhost:8080/"
        },
        "id": "XUj_y-Avf62j",
        "outputId": "973330c3-0206-4b36-f589-28d93e4c56e4"
      },
      "execution_count": 2,
      "outputs": [
        {
          "output_type": "stream",
          "name": "stderr",
          "text": [
            "100%|██████████| 9.91M/9.91M [00:00<00:00, 18.2MB/s]\n",
            "100%|██████████| 28.9k/28.9k [00:00<00:00, 492kB/s]\n",
            "100%|██████████| 1.65M/1.65M [00:00<00:00, 4.51MB/s]\n",
            "100%|██████████| 4.54k/4.54k [00:00<00:00, 13.4MB/s]\n"
          ]
        }
      ]
    },
    {
      "cell_type": "markdown",
      "source": [
        "##Elaboración del modelo"
      ],
      "metadata": {
        "id": "fyxO4e0Xjeuh"
      }
    },
    {
      "cell_type": "code",
      "source": [
        "class SimpleCNN(nn.Module):\n",
        "    def __init__(self):\n",
        "        super(SimpleCNN, self).__init__()\n",
        "        self.conv = nn.Sequential(\n",
        "            nn.Conv2d(1, 16, 3, padding=1), nn.ReLU(),\n",
        "            nn.MaxPool2d(2),\n",
        "            nn.Conv2d(16, 32, 3, padding=1), nn.ReLU(),\n",
        "            nn.MaxPool2d(2)\n",
        "        )\n",
        "        self.fc = nn.Sequential(\n",
        "            nn.Flatten(),\n",
        "            nn.Linear(32 * 7 * 7, 128), nn.ReLU(),\n",
        "            nn.Linear(128, 10)\n",
        "        )\n",
        "\n",
        "    def forward(self, x):\n",
        "        x = self.conv(x)\n",
        "        x = self.fc(x)\n",
        "        return x\n",
        "\n",
        "model = SimpleCNN()\n",
        "criterion = nn.CrossEntropyLoss()\n",
        "optimizer = optim.Adam(model.parameters(), lr=0.001)\n"
      ],
      "metadata": {
        "id": "oQ7afrZOf-OS"
      },
      "execution_count": 4,
      "outputs": []
    },
    {
      "cell_type": "markdown",
      "source": [
        "## Entrenamiento del modelo"
      ],
      "metadata": {
        "id": "uHsav2hXjjED"
      }
    },
    {
      "cell_type": "code",
      "source": [
        "for epoch in range(10):\n",
        "    model.train()\n",
        "    running_loss = 0.0\n",
        "    for inputs, labels in trainloader:\n",
        "\n",
        "        optimizer.zero_grad()\n",
        "        outputs = model(inputs)\n",
        "        loss = criterion(outputs, labels)\n",
        "        loss.backward()\n",
        "        optimizer.step()\n",
        "\n",
        "        running_loss += loss.item()\n"
      ],
      "metadata": {
        "id": "FahitD6hgGor"
      },
      "execution_count": 6,
      "outputs": []
    },
    {
      "cell_type": "markdown",
      "source": [
        "## Evaluación del modelo"
      ],
      "metadata": {
        "id": "8qak3alIjmd6"
      }
    },
    {
      "cell_type": "code",
      "source": [
        "def test_model(model, dataloader):\n",
        "    correct, total = 0, 0\n",
        "    model.eval()\n",
        "    with torch.no_grad():\n",
        "        for inputs, labels in dataloader:\n",
        "            outputs = model(inputs)\n",
        "            _, predicted = torch.max(outputs.data, 1)\n",
        "            total += labels.size(0)\n",
        "            correct += (predicted == labels).sum().item()\n",
        "    return correct / total\n",
        "\n",
        "accuracy_original = test_model(model, testloader)\n",
        "print(f\" Precisión: {accuracy_original:.4f}\")\n"
      ],
      "metadata": {
        "colab": {
          "base_uri": "https://localhost:8080/"
        },
        "id": "HydRPniiiNnW",
        "outputId": "e5ae20f1-b84a-4d39-848d-a40831b04029"
      },
      "execution_count": 8,
      "outputs": [
        {
          "output_type": "stream",
          "name": "stdout",
          "text": [
            " Precisión: 0.9894\n"
          ]
        }
      ]
    },
    {
      "cell_type": "markdown",
      "source": [
        "##Aplicación de filtro de pixelado y nueva evaluación"
      ],
      "metadata": {
        "id": "5eH3q10hjqg6"
      }
    },
    {
      "cell_type": "code",
      "source": [
        "class Pixelate(object):\n",
        "    def __init__(self, factor=4):\n",
        "        self.factor = factor\n",
        "\n",
        "    def __call__(self, img):\n",
        "        small = F.resize(img, [img.size(1) // self.factor, img.size(2) // self.factor], interpolation=transforms.InterpolationMode.BILINEAR)\n",
        "        return F.resize(small, [img.size(1), img.size(2)], interpolation=transforms.InterpolationMode.NEAREST)\n",
        "\n",
        "transform_pixelated = transforms.Compose([\n",
        "    transforms.ToTensor(),\n",
        "    Pixelate(factor=4)\n",
        "])\n",
        "\n",
        "testset_pixelated = torchvision.datasets.MNIST(root='./data', train=False, download=False, transform=transform_pixelated)\n",
        "testloader_pixelated = torch.utils.data.DataLoader(testset_pixelated, batch_size=64, shuffle=False)\n",
        "\n",
        "accuracy_pixelated = test_model(model, testloader_pixelated)\n",
        "print(f\"Precisión con imágenes pixeladas: {accuracy_pixelated:.4f}\")\n"
      ],
      "metadata": {
        "colab": {
          "base_uri": "https://localhost:8080/"
        },
        "id": "qVZdMEuyibjr",
        "outputId": "795fb27d-b1fc-405e-f047-f470f5aebc40"
      },
      "execution_count": 9,
      "outputs": [
        {
          "output_type": "stream",
          "name": "stdout",
          "text": [
            "Precisión con imágenes pixeladas: 0.7683\n"
          ]
        }
      ]
    }
  ]
}